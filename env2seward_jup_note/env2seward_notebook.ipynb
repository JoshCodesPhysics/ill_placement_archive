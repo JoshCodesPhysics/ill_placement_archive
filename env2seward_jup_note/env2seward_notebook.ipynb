{
 "cells": [
  {
   "cell_type": "markdown",
   "metadata": {},
   "source": [
    "# **Env2Seward Script Notebook for Manual File Input**"
   ]
  },
  {
   "cell_type": "markdown",
   "metadata": {},
   "source": [
    "## *Requirements*:"
   ]
  },
  {
   "cell_type": "markdown",
   "metadata": {},
   "source": [
    "Please make sure env2seward.py is in this directory so it is possible to import `finalwrite` for the reformatting of prefix.env.sew0. Please also make sure the input files prefix.env.sew0 and prefix.env.psd are also in this directory. Please also have basis sets and basis set library locations available for input."
   ]
  },
  {
   "cell_type": "markdown",
   "metadata": {},
   "source": [
    "## **During the running of this notebook, please enter Y when prompted below:**"
   ]
  },
  {
   "cell_type": "code",
   "execution_count": 1,
   "metadata": {},
   "outputs": [
    {
     "name": "stdout",
     "output_type": "stream",
     "text": [
      "Are you running this on the Jupyter notebook? (Y/N): Y\n"
     ]
    }
   ],
   "source": [
    "import env2seward as e2s"
   ]
  },
  {
   "cell_type": "markdown",
   "metadata": {},
   "source": [
    "## **Filenames**:"
   ]
  },
  {
   "cell_type": "markdown",
   "metadata": {},
   "source": [
    "### *Please enter the file to be generated and the title to be written to line 3 between the corresponding quotation marks (e.g. \"file_name\" and \"title_name\")*"
   ]
  },
  {
   "cell_type": "code",
   "execution_count": 2,
   "metadata": {},
   "outputs": [],
   "source": [
    "filename = \"test\"\n",
    "title = \"test\""
   ]
  },
  {
   "cell_type": "markdown",
   "metadata": {},
   "source": [
    "## *Please enter the names of the .env.sew0 and .env.psd input files respectively*"
   ]
  },
  {
   "cell_type": "code",
   "execution_count": 3,
   "metadata": {},
   "outputs": [],
   "source": [
    "sew0name = \"GdMn2O5_J1.env.sew0\"\n",
    "psdname = \"GdMn2O5_J1.env.psd\""
   ]
  },
  {
   "cell_type": "markdown",
   "metadata": {},
   "source": [
    "## **Fragment atom basis dictionary**"
   ]
  },
  {
   "cell_type": "markdown",
   "metadata": {},
   "source": [
    "### Dictionary input syntax:\n",
    "The input python dictionary syntax is easy to become familiar with. It is formed as `dict = {'key1':data1,'key2':data2}`. The dictionary contains keys that can be called upon to access the corresponding data. This data can be any datatype (even another dictionary, as it is for our `lib_frag` dictionary). For `env2seward.py` to run, the dictionary input needs to be in a specific format. Each atom key corresponds to it's own dictionary. This dictionary contains the `'bool'`,`'loc'` and `'key'` keys. `'bool'` corresponds to if there is a specified library for the basis set. If there is, enter `'bool':True`, and if the library is default, enter `'bool':False`. If you entered `True`, write the specified library between `''` after `'loc':`. If you entered `False`, leave it as an empty string like this: `'loc':''`. The `'key'` data will be your atom basis set. Enter it as `'key':'corresponding basis key'`.    \n",
    "\n",
    "The dictionary should appear in the following format:\n",
    ">`lib_frag = {'atom_type':{'bool':True or False,'loc':'specified library location','key':'corresponding basis key'}, 'atom_type2':{'bool':True or False,'loc':'specified library location','key':'corresponding basis key'},e.t.c}`\n",
    "\n",
    "Here is an example for the fragment atoms in GdMn2O5, whose basis sets are stored in the default library:\n",
    ">`lib_frag = {'Mn':{'bool': False,'loc': '','key':'Mn.ano-rcc.Roos.21s15p10d6f4g2h.6s4p3d1f0g.'},'O':{'bool': False,'loc': '','key':'O.ano-rcc.Roos.14s9p4d3f2g.4s3p1d0f'}}`"
   ]
  },
  {
   "cell_type": "markdown",
   "metadata": {},
   "source": [
    "### *Please enter the fragment atom basis data below*:"
   ]
  },
  {
   "cell_type": "code",
   "execution_count": 4,
   "metadata": {},
   "outputs": [],
   "source": [
    "lib_frag = {'Mn':{'bool': False,'loc': '','key':'Mn.ano-rcc.Roos.21s15p10d6f4g2h.6s4p3d1f0g.'},'O':{'bool': False,'loc': '','key':'O.ano-rcc.Roos.14s9p4d3f2g.4s3p1d0f'}}"
   ]
  },
  {
   "cell_type": "markdown",
   "metadata": {},
   "source": [
    "## **TIP atom basis dictionary**"
   ]
  },
  {
   "cell_type": "markdown",
   "metadata": {},
   "source": [
    "### Dictionary input syntax:\n",
    "This is the same syntax of the fragment atom, except now you have a possibly larger number of inputs to enter (due to the relevancy of their Wyckoff sites). Here is an example for the TIP atoms in GdMn2O5, whose basis sets are **not** stored in the default library:\n",
    "\n",
    ">`lib_pseudo = {'Gd1':{'bool': True,'loc': 'PSEUDO','key':'Gd.ECP.Marie.0s.0s.0e-Gd1-GdMn2O5.'},'Gd2':{'bool': True,'loc': 'PSEUDO','key':'Gd.ECP.Marie.0s.0s.0e-Gd2-GdMn2O5.'},'Mn1':{'bool':True,'loc':'PSEUDO','key':'Mn.ECP.Marie.0s.0s.0e-Mn1-GdMn2O5.'},'Mn2':{'bool':True,'loc':'PSEUDO','key':'Mn.ECP.Marie.0s.0s.0e-Mn2-GdMn2O5.'},'O1':{'bool':True,'loc':'PSEUDO','key':'O.ECP.Marie.0s.0s.0e-O1-GdMn2O5.'},'O2':{'bool':True,'loc':'PSEUDO','key':'O.ECP.Marie.0s.0s.0e-O2-GdMn2O5.'},'O3':{'bool':True,'loc':'PSEUDO','key':'O.ECP.Marie.0s.0s.0e-O3-GdMn2O5.'},'O4':{'bool':True,'loc':'PSEUDO','key':'O.ECP.Marie.0s.0s.0e-O4-GdMn2O5.'}}`"
   ]
  },
  {
   "cell_type": "markdown",
   "metadata": {},
   "source": [
    "### *Please enter the TIP atom basis data below*:"
   ]
  },
  {
   "cell_type": "code",
   "execution_count": 5,
   "metadata": {},
   "outputs": [],
   "source": [
    "lib_pseudo = {'Gd1':{'bool': True,'loc': 'PSEUDO','key':'Gd.ECP.Marie.0s.0s.0e-Gd1-GdMn2O5.'},'Gd2':{'bool': True,'loc': 'PSEUDO','key':'Gd.ECP.Marie.0s.0s.0e-Gd2-GdMn2O5.'},'Mn1':{'bool':True,'loc':'PSEUDO','key':'Mn.ECP.Marie.0s.0s.0e-Mn1-GdMn2O5.'},'Mn2':{'bool':True,'loc':'PSEUDO','key':'Mn.ECP.Marie.0s.0s.0e-Mn2-GdMn2O5.'},'O1':{'bool':True,'loc':'PSEUDO','key':'O.ECP.Marie.0s.0s.0e-O1-GdMn2O5.'},'O2':{'bool':True,'loc':'PSEUDO','key':'O.ECP.Marie.0s.0s.0e-O2-GdMn2O5.'},'O3':{'bool':True,'loc':'PSEUDO','key':'O.ECP.Marie.0s.0s.0e-O3-GdMn2O5.'},'O4':{'bool':True,'loc':'PSEUDO','key':'O.ECP.Marie.0s.0s.0e-O4-GdMn2O5.'}}"
   ]
  },
  {
   "cell_type": "markdown",
   "metadata": {},
   "source": [
    "## **Running finalwrite and generating a new output file for SEWARD input:**"
   ]
  },
  {
   "cell_type": "code",
   "execution_count": 6,
   "metadata": {},
   "outputs": [
    {
     "name": "stdout",
     "output_type": "stream",
     "text": [
      "File has been created\n"
     ]
    }
   ],
   "source": [
    "e2s.finalwrite(filename,title,sew0name,psdname,lib_frag,lib_pseudo)"
   ]
  }
 ],
 "metadata": {
  "kernelspec": {
   "display_name": "Python 3",
   "language": "python",
   "name": "python3"
  },
  "language_info": {
   "codemirror_mode": {
    "name": "ipython",
    "version": 3
   },
   "file_extension": ".py",
   "mimetype": "text/x-python",
   "name": "python",
   "nbconvert_exporter": "python",
   "pygments_lexer": "ipython3",
   "version": "3.7.6"
  }
 },
 "nbformat": 4,
 "nbformat_minor": 4
}
